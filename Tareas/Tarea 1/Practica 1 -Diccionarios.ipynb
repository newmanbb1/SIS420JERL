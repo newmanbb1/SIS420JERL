{
 "cells": [
  {
   "cell_type": "markdown",
   "id": "570bdea8",
   "metadata": {},
   "source": [
    "## CREAMOS EL DICCIONARIO Y LO IMPRIMIMOS PARA VERIFICAR LA CREACION DE ESTE MISMO EN ESTE CASO SERA UN DICCIONARIO DE ESPANIOL A INGLES"
   ]
  },
  {
   "cell_type": "code",
   "execution_count": 2,
   "id": "5225494e",
   "metadata": {},
   "outputs": [
    {
     "name": "stdout",
     "output_type": "stream",
     "text": [
      "{'azul': 'blue', 'rojo': 'red', 'verde': 'green'}\n"
     ]
    }
   ],
   "source": [
    "diccionario ={\"azul\":\"blue\",\"rojo\":\"red\",\"verde\":\"green\"}\n",
    "print(diccionario)"
   ]
  },
  {
   "cell_type": "markdown",
   "id": "63086aac",
   "metadata": {},
   "source": [
    "## BUSCAMOS LA PALABRA LLAVE PARA LA TRADUCCION "
   ]
  },
  {
   "cell_type": "code",
   "execution_count": 3,
   "id": "54bf6101",
   "metadata": {},
   "outputs": [
    {
     "name": "stdout",
     "output_type": "stream",
     "text": [
      "blue\n"
     ]
    }
   ],
   "source": [
    "print(diccionario[\"azul\"])"
   ]
  },
  {
   "cell_type": "markdown",
   "id": "de791500",
   "metadata": {},
   "source": [
    "## TAMBIEN PODEMOS ANIADIR PALABRAS NUEVAS DE LA SIGUIENTE MANERA"
   ]
  },
  {
   "cell_type": "code",
   "execution_count": 4,
   "id": "1e588b7c",
   "metadata": {},
   "outputs": [],
   "source": [
    "diccionario[\"amarillo\"]=\"yellow\""
   ]
  },
  {
   "cell_type": "code",
   "execution_count": 5,
   "id": "3331fec5",
   "metadata": {},
   "outputs": [
    {
     "name": "stdout",
     "output_type": "stream",
     "text": [
      "{'azul': 'blue', 'rojo': 'red', 'verde': 'green', 'amarillo': 'yellow'}\n"
     ]
    }
   ],
   "source": [
    "print(diccionario)"
   ]
  },
  {
   "cell_type": "markdown",
   "id": "a9f4e8bd",
   "metadata": {},
   "source": [
    "## TAMBIEN PODEMOS MODIFICAR PALABRAS QUE YA EXISTEN"
   ]
  },
  {
   "cell_type": "code",
   "execution_count": 6,
   "id": "60f5cb3a",
   "metadata": {},
   "outputs": [],
   "source": [
    "diccionario[\"azul\"]=\"BLUE\""
   ]
  },
  {
   "cell_type": "code",
   "execution_count": 7,
   "id": "7297eec4",
   "metadata": {},
   "outputs": [
    {
     "name": "stdout",
     "output_type": "stream",
     "text": [
      "{'azul': 'BLUE', 'rojo': 'red', 'verde': 'green', 'amarillo': 'yellow'}\n"
     ]
    }
   ],
   "source": [
    "print(diccionario)"
   ]
  },
  {
   "cell_type": "markdown",
   "id": "99dcc264",
   "metadata": {},
   "source": [
    "##  PODEMOS ELIMINAR PALABRAS DEL DICCIONARIO"
   ]
  },
  {
   "cell_type": "code",
   "execution_count": 8,
   "id": "aa84ba99",
   "metadata": {},
   "outputs": [],
   "source": [
    "del(diccionario[\"verde\"])"
   ]
  },
  {
   "cell_type": "code",
   "execution_count": 9,
   "id": "8889d4f6",
   "metadata": {},
   "outputs": [
    {
     "name": "stdout",
     "output_type": "stream",
     "text": [
      "{'azul': 'BLUE', 'rojo': 'red', 'amarillo': 'yellow'}\n"
     ]
    }
   ],
   "source": [
    "print(diccionario)"
   ]
  },
  {
   "cell_type": "markdown",
   "id": "dcc3c36e",
   "metadata": {},
   "source": [
    "## PODEMOS SABER LA CANTIDAD DE ELEMENTOS DEL DICCIONARIO"
   ]
  },
  {
   "cell_type": "code",
   "execution_count": 10,
   "id": "de94bbd2",
   "metadata": {},
   "outputs": [
    {
     "name": "stdout",
     "output_type": "stream",
     "text": [
      "3\n"
     ]
    }
   ],
   "source": [
    "print(len(diccionario))"
   ]
  },
  {
   "cell_type": "markdown",
   "id": "f74dc3fe",
   "metadata": {},
   "source": [
    "## PODEMOS ELIMINAR TODOS LOS ELEMENTOS DEL DICCIONARIO"
   ]
  },
  {
   "cell_type": "code",
   "execution_count": 12,
   "id": "de3cfa81",
   "metadata": {},
   "outputs": [
    {
     "name": "stdout",
     "output_type": "stream",
     "text": [
      "{}\n"
     ]
    }
   ],
   "source": [
    "diccionario.clear()\n",
    "print(diccionario)"
   ]
  }
 ],
 "metadata": {
  "kernelspec": {
   "display_name": "Python 3 (ipykernel)",
   "language": "python",
   "name": "python3"
  },
  "language_info": {
   "codemirror_mode": {
    "name": "ipython",
    "version": 3
   },
   "file_extension": ".py",
   "mimetype": "text/x-python",
   "name": "python",
   "nbconvert_exporter": "python",
   "pygments_lexer": "ipython3",
   "version": "3.9.12"
  }
 },
 "nbformat": 4,
 "nbformat_minor": 5
}
